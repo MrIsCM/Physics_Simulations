{
 "cells": [
  {
   "attachments": {},
   "cell_type": "markdown",
   "metadata": {},
   "source": [
    "## N-Body Problem"
   ]
  },
  {
   "attachments": {},
   "cell_type": "markdown",
   "metadata": {},
   "source": [
    "### Two-body problem\n",
    "\n",
    "Simple case. Two bodies, only considering the gravitaional interaction between them.\n",
    "The equations of motion are:\n",
    "\n",
    "$$ \\vec{F} = -\\frac{Gm_1m_2}{r^3}\\vec{r} $$\n",
    "\n",
    "$$ m_1\\frac{d^{2}{\\vec{r}}}{dt^{2}} = -\\frac{Gm_1m_2}{r^3}\\vec{r} $$\n",
    "\n",
    "Then:\n",
    "$$ \\ddot{\\vec{r}} = -\\frac{G m_2}{r^3}\\vec{r} $$\n",
    "\n",
    "Reescaling:\n",
    "- $t' = t \\cdot \\sqrt{\\frac{G M_s}{C^3}}$\n",
    "- $r' = r \\cdot \\frac{1}{C}$ \n",
    "- $m' = m \\cdot \\frac{1}{M_s}$\n",
    "\n",
    "where $M_s$ is the mass of the more massive body and $C$ is the average distance between the masses.\n",
    "(For example, mass of the Sun and Astronomical Unit)\n",
    "\n",
    "Separating the equations of motion in the $x'$ and $y'$ components and reducing the second order differential equation to two first order differential equations:\n",
    "- $ \\dot{x'} = v'_x $\n",
    "- $ \\dot{y'} = v'_y $\n",
    "- $ \\dot{v'}_x = - \\frac{m'_2}{r'^3}x $\n",
    "- $ \\dot{v'}_y = - \\frac{m'_2}{r'^3}y $"
   ]
  },
  {
   "cell_type": "code",
   "execution_count": 1,
   "metadata": {},
   "outputs": [],
   "source": [
    "import numpy as np\n",
    "import matplotlib.pyplot as plt\n",
    "import matplotlib.animation as animation\n",
    "from scipy.integrate import odeint \n",
    "from scipy.integrate import solve_ivp"
   ]
  },
  {
   "cell_type": "code",
   "execution_count": 2,
   "metadata": {},
   "outputs": [],
   "source": [
    "# Some constants:\n",
    "G = 6.67408e-11 # Gravitational constant\n",
    "M = 1.989e30 \t# Mass of the Sun\n",
    "C = 1.496e11 \t# Astronomical unit\n",
    "V = 29_800 \t\t# Average speed of the Earth around the Sun"
   ]
  },
  {
   "cell_type": "code",
   "execution_count": 3,
   "metadata": {},
   "outputs": [],
   "source": [
    "# Sacaling factors:\n",
    "f_t = np.sqrt(G*M/C**3) \t# Time scale factor\n",
    "f_r = 1/C\t\t\t\t\t# Length scale factor\n",
    "f_v = f_r/f_t \t\t\t\t# Velocity scale factor\n",
    "f_m = M \t\t\t\t\t# Mass scale factor\n",
    "\n",
    "# Time step:\n",
    "h = 1E-2\n",
    "t = 0\n",
    "\n",
    "# Initial conditions:\n",
    "x0, y0, vx0, vy0 = 1, 0, 0, V*f_v\n",
    "r0 = np.array([x0, y0])\n",
    "v0 = np.array([vx0, vy0])\n",
    "m = 1"
   ]
  },
  {
   "attachments": {},
   "cell_type": "markdown",
   "metadata": {},
   "source": [
    "## Using Vervelts Algorithm:\n",
    "\n",
    "1. Choose h, the step size; $t=0$ and initial conditions.\n",
    "1. Evaluate $a_i(t)$ from the gravitational interactions.\n",
    "1. Calculate $r_i(t+h)$ and $w_i$, where $w_i = v_i(t) + \\frac{h}{2} a_i(t)$\n",
    "1. Evaluate $a_i(t+h)$ from the new positions, $r_i(t+h)$.\n",
    "1. Calculate $v_i(t+h)$ where $v_i(t+h) = w_i + \\frac{h}{2} a_i(t+h)$\n",
    "1. $t = t + h$\n",
    "1. Repeat from step 2."
   ]
  },
  {
   "cell_type": "code",
   "execution_count": 4,
   "metadata": {},
   "outputs": [],
   "source": [
    "def accelaration(r1, r2, m2):\n",
    "    return np.array([-m2*(r1[0]-r2[0])/np.linalg.norm(r1-r2)**3, -m2*(r1[1]-r2[1])/np.linalg.norm(r1-r2)**3], dtype=np.float64)"
   ]
  },
  {
   "cell_type": "code",
   "execution_count": 5,
   "metadata": {},
   "outputs": [],
   "source": [
    "def w_aux(v, a, h):\n",
    "\treturn v + a*h/2"
   ]
  },
  {
   "cell_type": "code",
   "execution_count": 6,
   "metadata": {},
   "outputs": [],
   "source": [
    "def r_new(r, v, h):\n",
    "\treturn r + v*h"
   ]
  },
  {
   "cell_type": "code",
   "execution_count": 7,
   "metadata": {},
   "outputs": [],
   "source": [
    "def v_new(v, w, a, h):\n",
    "\treturn w + a*h/2"
   ]
  },
  {
   "cell_type": "code",
   "execution_count": 8,
   "metadata": {},
   "outputs": [],
   "source": [
    "pos = np.array([r0])"
   ]
  },
  {
   "cell_type": "code",
   "execution_count": 12,
   "metadata": {},
   "outputs": [
    {
     "name": "stdout",
     "output_type": "stream",
     "text": [
      "0.0\n",
      "0.1\n",
      "0.2\n",
      "0.3\n",
      "0.4\n",
      "0.5\n",
      "0.6\n",
      "0.7\n",
      "0.8\n",
      "0.9\n",
      "1.0\n",
      "1.1\n",
      "1.2\n",
      "1.3\n",
      "1.4\n",
      "1.5\n",
      "1.6\n",
      "1.7\n",
      "1.8\n",
      "1.9\n",
      "2.0\n",
      "2.1\n",
      "2.2\n",
      "2.3\n",
      "2.4\n",
      "2.5\n",
      "2.6\n",
      "2.7\n",
      "2.8\n",
      "2.9\n",
      "3.0\n",
      "3.1\n",
      "3.2\n",
      "3.3\n",
      "3.4\n",
      "3.5\n",
      "3.6\n",
      "3.7\n",
      "3.8\n",
      "3.9\n",
      "4.0\n",
      "4.1\n",
      "4.2\n",
      "4.3\n",
      "4.4\n",
      "4.5\n",
      "4.6\n",
      "4.7\n",
      "4.8\n",
      "4.9\n",
      "5.0\n",
      "5.1\n",
      "5.2\n",
      "5.3\n",
      "5.4\n",
      "5.5\n",
      "5.6\n",
      "5.7\n",
      "5.8\n",
      "5.9\n",
      "6.0\n",
      "6.1\n",
      "6.2\n",
      "6.3\n",
      "6.4\n",
      "6.5\n",
      "6.6\n",
      "6.7\n",
      "6.8\n",
      "6.9\n",
      "7.0\n",
      "7.1\n",
      "7.2\n",
      "7.3\n",
      "7.4\n",
      "7.5\n",
      "7.6\n",
      "7.7\n",
      "7.8\n",
      "7.9\n",
      "8.0\n",
      "8.1\n",
      "8.2\n",
      "8.3\n",
      "8.4\n",
      "8.5\n",
      "8.6\n",
      "8.7\n",
      "8.8\n",
      "8.9\n",
      "9.0\n",
      "9.1\n",
      "9.2\n",
      "9.3\n",
      "9.4\n",
      "9.5\n",
      "9.6\n",
      "9.7\n",
      "9.8\n",
      "9.9\n"
     ]
    }
   ],
   "source": [
    "a = accelaration(r0, v0, m)\n",
    "r = r_new(r0, v0, h)\n",
    "w = w_aux(v0, a, h)\n",
    "a = accelaration(r, v0, m)\n",
    "v = v_new(v0, w, a, h)\n",
    "\n",
    "for i in range(100_000):\n",
    "\tif i%10000 == 0:\n",
    "\t\tprint(i/10000)\n",
    "\tt += h\n",
    "\tr = r_new(r, v, h)\n",
    "\tw = w_aux(v, a, h)\n",
    "\ta = accelaration(r, v, m)\n",
    "\tv = v_new(v, w, a, h)\n",
    "\tpos = np.append(pos, [r], axis=0)"
   ]
  },
  {
   "cell_type": "code",
   "execution_count": 13,
   "metadata": {},
   "outputs": [
    {
     "data": {
      "text/plain": [
       "[<matplotlib.lines.Line2D at 0x187844088f0>]"
      ]
     },
     "execution_count": 13,
     "metadata": {},
     "output_type": "execute_result"
    },
    {
     "data": {
      "image/png": "[encoded data removed]",
      "text/plain": [
       "<Figure size 640x480 with 1 Axes>"
      ]
     },
     "metadata": {},
     "output_type": "display_data"
    }
   ],
   "source": [
    "plt.plot(pos[:,0], pos[:,1])"
   ]
  }
 ],
 "metadata": {
  "kernelspec": {
   "display_name": "Python 3",
   "language": "python",
   "name": "python3"
  },
  "language_info": {
   "codemirror_mode": {
    "name": "ipython",
    "version": 3
   },
   "file_extension": ".py",
   "mimetype": "text/x-python",
   "name": "python",
   "nbconvert_exporter": "python",
   "pygments_lexer": "ipython3",
   "version": "3.12.1"
  },
  "orig_nbformat": 4,
  "vscode": {
   "interpreter": {
    "hash": "8bb183d6f65149bde25a8207ad2fb4989b2757aac3d3ec63796cdeb74924c51a"
   }
  }
 },
 "nbformat": 4,
 "nbformat_minor": 2
}
