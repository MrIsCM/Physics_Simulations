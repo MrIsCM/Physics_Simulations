{
 "cells": [
  {
   "attachments": {},
   "cell_type": "markdown",
   "metadata": {},
   "source": [
    "## N-Body Problem"
   ]
  },
  {
   "attachments": {},
   "cell_type": "markdown",
   "metadata": {},
   "source": [
    "### Two-body problem\n",
    "\n",
    "Simple case. Two bodies, only considering the gravitaional interaction between them.\n",
    "The equations of motion are:\n",
    "\n",
    "$$ \\vec{F} = -\\frac{Gm_1m_2}{r^3}\\vec{r} $$\n",
    "\n",
    "$$ m_1\\frac{d^{2}{\\vec{r}}}{dt^{2}} = -\\frac{Gm_2m_2}{r^3}\\vec{r} $$\n",
    "\n",
    "Then:\n",
    "$$ \\ddot{\\vec{r}} = -\\frac{G m_2}{r^3}\\vec{r} $$\n",
    "\n",
    "Reescaling:\n",
    "- $t' = t \\cdot \\sqrt{\\frac{G M_s}{C^3}}$\n",
    "- $r' = r \\cdot \\frac{1}{C}$ $$\n",
    "- $m' = m \\cdot \\frac{1}{M_s}$\n",
    "\n",
    "where $M_s$ is the mass of the more massive body and $C$ is the average distance between the masses.\n",
    "(For example, mass of the Sun and Astronomical Unit)\n",
    "\n",
    "Separating the equations of motion in the $x'$ and $y'$ components and reducing the second order differential equation to two first order differential equations:\n",
    "- $ \\dot{x'} = v'_x $\n",
    "- $ \\dot{y'} = v'_y $\n",
    "- $ \\dot{v'}_x = - \\frac{m'_2}{r'^3}x $\n",
    "- $ \\dot{v'}_y = - \\frac{m'_2}{r'^3}y $"
   ]
  },
  {
   "cell_type": "code",
   "execution_count": 1,
   "metadata": {},
   "outputs": [],
   "source": [
    "import numpy as np\n",
    "import matplotlib.pyplot as plt\n",
    "import matplotlib.animation as animation\n",
    "from scipy.integrate import odeint \n",
    "from scipy.integrate import solve_ivp"
   ]
  },
  {
   "cell_type": "code",
   "execution_count": 13,
   "metadata": {},
   "outputs": [],
   "source": [
    "# Some constants:\n",
    "G = 6.67408e-11 # Gravitational constant\n",
    "M = 1.989e30 \t# Mass of the Sun\n",
    "C = 1.496e11 \t# Astronomical unit\n",
    "V = 29_800 \t\t# Average speed of the Earth around the Sun"
   ]
  },
  {
   "cell_type": "code",
   "execution_count": 59,
   "metadata": {},
   "outputs": [],
   "source": [
    "# Sacaling factors:\n",
    "f_t = np.sqrt(G*M/C**3) \t# Time scale factor\n",
    "f_r = 1/C\t\t\t\t\t# Length scale factor\n",
    "f_v = f_r/f_t \t\t\t\t# Velocity scale factor\n",
    "f_m = M \t\t\t\t\t# Mass scale factor\n",
    "\n",
    "# Time step:\n",
    "h = 1e-3\n",
    "t = 0\n",
    "\n",
    "# Initial conditions:\n",
    "x0, y0, vx0, vy0 = 1, 0, 0, V*f_v\n",
    "r0 = np.array([x0, y0])\n",
    "v0 = np.array([vx0, vy0])\n",
    "m = 1"
   ]
  },
  {
   "attachments": {},
   "cell_type": "markdown",
   "metadata": {},
   "source": [
    "## Using Vervelts Algorithm:\n",
    "\n",
    "1. Choose h, the step size; $t=0$ and initial conditions.\n",
    "1. Evaluate $a_i(t)$ from the gravitational interactions.\n",
    "1. Calculate $r_i(t+h)$ and $w_i$, where $w_i = v_i(t) + \\frac{h}{2} a_i(t)$\n",
    "1. Evaluate $a_i(t+h)$ from the new positions, $r_i(t+h)$.\n",
    "1. Calculate $v_i(t+h)$ where $v_i(t+h) = w_i + \\frac{h}{2} a_i(t+h)$\n",
    "1. $t = t + h$\n",
    "1. Repeat from step 2."
   ]
  },
  {
   "cell_type": "code",
   "execution_count": 55,
   "metadata": {},
   "outputs": [],
   "source": [
    "def accelaration(r1, r2, m2):\n",
    "    return [-m2*(r1[0]-r2[0])/np.linalg.norm(r1-r2)**3, -m2*(r1[1]-r2[1])/np.linalg.norm(r1-r2)**3]"
   ]
  },
  {
   "cell_type": "code",
   "execution_count": 56,
   "metadata": {},
   "outputs": [],
   "source": [
    "def w_aux(v, a, h):\n",
    "\treturn v + a*h/2"
   ]
  },
  {
   "cell_type": "code",
   "execution_count": 57,
   "metadata": {},
   "outputs": [],
   "source": [
    "def r_new(r, v, h):\n",
    "\treturn r + v*h"
   ]
  },
  {
   "cell_type": "code",
   "execution_count": 58,
   "metadata": {},
   "outputs": [],
   "source": [
    "def v_new(v, w, a, h):\n",
    "\treturn w + a*h/2"
   ]
  },
  {
   "cell_type": "code",
   "execution_count": null,
   "metadata": {},
   "outputs": [],
   "source": [
    "a = accelaration(r0, v0, m)\n",
    "r = r_new(r0, v0, h)\n",
    "w = w_aux(v0, a, h)\n",
    "a = accelaration(r, v0, m)\n",
    "\n",
    "\n",
    "for i in range(1000):\n",
    "\tt += h\n",
    "\tx = x0 + vx0*h\n",
    "\ty = y0 + vy0*h\n",
    "\tr = np.sqrt(x**2 + y**2)\n",
    "\tvx = vx0 - G*M*x*h/r**3\n",
    "\tvy = vy0 - G*M*y*h/r**3\n",
    "\tx0, y0, vx0, vy0 = x, y, vx, vy"
   ]
  }
 ],
 "metadata": {
  "kernelspec": {
   "display_name": "Python 3",
   "language": "python",
   "name": "python3"
  },
  "language_info": {
   "codemirror_mode": {
    "name": "ipython",
    "version": 3
   },
   "file_extension": ".py",
   "mimetype": "text/x-python",
   "name": "python",
   "nbconvert_exporter": "python",
   "pygments_lexer": "ipython3",
   "version": "3.11.0"
  },
  "orig_nbformat": 4,
  "vscode": {
   "interpreter": {
    "hash": "8bb183d6f65149bde25a8207ad2fb4989b2757aac3d3ec63796cdeb74924c51a"
   }
  }
 },
 "nbformat": 4,
 "nbformat_minor": 2
}
