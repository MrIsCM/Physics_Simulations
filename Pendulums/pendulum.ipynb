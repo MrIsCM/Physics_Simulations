{
 "cells": [
  {
   "cell_type": "markdown",
   "metadata": {},
   "source": [
    "# Pendulum\n",
    "\n",
    "Using Lagrangian Mechanincs, we can derive the equation of motion for a simple pendulum.\n",
    "The system consists:\n",
    "- Mass $m$ at the end of massless rod\n",
    "- Rod of length $l$\n",
    "- Pivot point at $(0,0)$\n",
    "- Gravity $g$\n",
    "\n",
    "The generalised coordinates are the angle $\\theta$ and the angular velocity $\\dot{\\theta}$.\n",
    "\n",
    "The Lagrangian is given by:\n",
    "\n",
    "$$\n",
    "\\mathcal{L} = T - V\n",
    "$$\n",
    "\n",
    "where $T$ is the kinetic energy and $V$ is the potential energy.\n",
    "\n",
    "In the case of the simple pendulum:\n",
    "$$\n",
    "T = \\frac{1}{2} m l^2 \\dot{\\theta}^2\n",
    "$$\n",
    "$$\n",
    "V = - m g l \\cos(\\theta)\n",
    "$$\n",
    "\n",
    "The Euler-Lagrange equation is:\n",
    "$$\n",
    "\\frac{d}{dt} \\left( \\frac{\\partial \\mathcal{L}}{\\partial \\dot{\\theta}} \\right) - \\frac{\\partial \\mathcal{L}}{\\partial \\theta} = 0\n",
    "$$\n",
    "\n",
    "This is easy to solve.\n",
    "I will be using sympy to practice symbolic computation."
   ]
  },
  {
   "cell_type": "code",
   "execution_count": 23,
   "metadata": {},
   "outputs": [],
   "source": [
    "import numpy as np\n",
    "import matplotlib.pyplot as plt\n",
    "import sympy as sp"
   ]
  },
  {
   "cell_type": "code",
   "execution_count": 35,
   "metadata": {},
   "outputs": [],
   "source": [
    "# Define the symbolic variables\n",
    "t = sp.symbols('t')\n",
    "l, m = sp.symbols('l m', positive=True)\n",
    "g = sp.symbols('g', real=True)\n",
    "\n",
    "# Define the symbolic functions\n",
    "theta = sp.Function('theta')(t)\n",
    "theta_dot = sp.diff(theta, t)\n",
    "\n",
    "# Position and velocity of the pendulum\n",
    "r = np.array([l*sp.sin(theta), -l*sp.cos(theta)])\n",
    "v = np.array([sp.diff(r[0], t), sp.diff(r[1], t)])\n",
    "\n",
    "# Kinetic and potential energy\n",
    "T = 0.5 * np.dot(v, v)\n",
    "V = m*g*r[1]\n",
    "\n",
    "# Lagrangian\n",
    "L = T - V"
   ]
  },
  {
   "cell_type": "code",
   "execution_count": 36,
   "metadata": {},
   "outputs": [],
   "source": [
    "# Euler-Lagrange terms\n",
    "dL_dth = sp.diff(L, theta)\n",
    "dL_dth_dt = sp.diff(L, sp.diff(theta, t)).diff(t)\n",
    "\n",
    "# Euler-Lagrange equation dL/dq - d/dt(dL/dq_dot) = 0\n",
    "lag_eq = dL_dth - dL_dth_dt"
   ]
  },
  {
   "cell_type": "code",
   "execution_count": 39,
   "metadata": {},
   "outputs": [],
   "source": [
    "equation = lag_eq.simplify()"
   ]
  },
  {
   "cell_type": "code",
   "execution_count": 40,
   "metadata": {},
   "outputs": [],
   "source": [
    "ddth_eq = sp.solve(equation, sp.diff(theta, t, t))[0]"
   ]
  }
 ],
 "metadata": {
  "kernelspec": {
   "display_name": "Python 3",
   "language": "python",
   "name": "python3"
  },
  "language_info": {
   "codemirror_mode": {
    "name": "ipython",
    "version": 3
   },
   "file_extension": ".py",
   "mimetype": "text/x-python",
   "name": "python",
   "nbconvert_exporter": "python",
   "pygments_lexer": "ipython3",
   "version": "3.12.1"
  }
 },
 "nbformat": 4,
 "nbformat_minor": 2
}
