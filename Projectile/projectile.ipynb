{
 "cells": [
  {
   "attachments": {},
   "cell_type": "markdown",
   "metadata": {},
   "source": [
    "### Projectile\n",
    "\n",
    "r, v, a, mass, friction."
   ]
  },
  {
   "cell_type": "code",
   "execution_count": 1,
   "metadata": {},
   "outputs": [],
   "source": [
    "import numpy as np\n",
    "import matplotlib.pyplot as plt"
   ]
  },
  {
   "cell_type": "code",
   "execution_count": 29,
   "metadata": {},
   "outputs": [],
   "source": [
    "class Projectile:\n",
    "\n",
    "\tdef __init__(self, r0, v0, m, t_span, a=np.array([0, -9.81]), c=np.array([0, 0])):\n",
    "\n",
    "\t\tself.r = np.array([r0])\n",
    "\t\tself.v = np.array([v0])\n",
    "\t\tself.m = m\n",
    "\t\tself.t_span = t_span\n",
    "\t\tself.a = a\n",
    "\t\tself.c = c\n",
    "\n",
    "\tdef trajectory(self):\n",
    "\t\tdt = self.t_span[1] - self.t_span[0]\n",
    "\t\tfor i in range(len(self.t_span)-1):\n",
    "\t\t\tv = self.v[-1] + self.a*dt + self.c*dt\n",
    "\t\t\tr = self.r[-1] + v*dt\n",
    "\t\t\tself.v = np.append(self.v, v, axis=0)\n",
    "\t\t\tself.r = np.append(self.r, r, axis=0)\n",
    "\t\t\n",
    "\t\tself.r = self.r.reshape(-1, 2)\n",
    "\t\tself.v = self.v.reshape(-1, 2)\n",
    "\n",
    "\tdef peak(self):\n",
    "\t\tpeak = np.argmax(self.r[:,1])\n",
    "\t\treturn self.r[peak]\n",
    "\t\n",
    "\tdef plot_trajectory(self):\n",
    "\t\tpeak = self.peak()\n",
    "\t\tplt.plot(self.r[:,0], self.r[:,1], label='Trajectory')\n",
    "\t\tplt.plot(peak[0], peak[1], 'ro', label='Peak')\n",
    "\t\tplt.show()"
   ]
  },
  {
   "cell_type": "code",
   "execution_count": 22,
   "metadata": {},
   "outputs": [],
   "source": [
    "p = Projectile(np.array([0, 0]), np.array([10, 10]), 1, np.linspace(0, 1, 100))\n",
    "p.trajectory()"
   ]
  },
  {
   "cell_type": "code",
   "execution_count": 33,
   "metadata": {},
   "outputs": [
    {
     "data": {
      "text/plain": [
       "array([[1, 2],\n",
       "       [3, 4],\n",
       "       [5, 6]])"
      ]
     },
     "execution_count": 33,
     "metadata": {},
     "output_type": "execute_result"
    }
   ],
   "source": [
    "v = np.array([1, 2, 3, 4, 5, 6])\n",
    "v.reshape(-1, 2)"
   ]
  }
 ],
 "metadata": {
  "kernelspec": {
   "display_name": "Python 3",
   "language": "python",
   "name": "python3"
  },
  "language_info": {
   "codemirror_mode": {
    "name": "ipython",
    "version": 3
   },
   "file_extension": ".py",
   "mimetype": "text/x-python",
   "name": "python",
   "nbconvert_exporter": "python",
   "pygments_lexer": "ipython3",
   "version": "3.12.1"
  },
  "orig_nbformat": 4,
  "vscode": {
   "interpreter": {
    "hash": "8bb183d6f65149bde25a8207ad2fb4989b2757aac3d3ec63796cdeb74924c51a"
   }
  }
 },
 "nbformat": 4,
 "nbformat_minor": 2
}
